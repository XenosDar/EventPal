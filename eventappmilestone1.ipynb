{
  "nbformat": 4,
  "nbformat_minor": 0,
  "metadata": {
    "colab": {
      "provenance": [],
      "authorship_tag": "ABX9TyN1kyLXK7p90KQTIDqBlRBr",
      "include_colab_link": true
    },
    "kernelspec": {
      "name": "python3",
      "display_name": "Python 3"
    },
    "language_info": {
      "name": "python"
    }
  },
  "cells": [
    {
      "cell_type": "markdown",
      "metadata": {
        "id": "view-in-github",
        "colab_type": "text"
      },
      "source": [
        "<a href=\"https://colab.research.google.com/github/XenosDar/EventPal/blob/milestone1/eventappmilestone1.ipynb\" target=\"_parent\"><img src=\"https://colab.research.google.com/assets/colab-badge.svg\" alt=\"Open In Colab\"/></a>"
      ]
    },
    {
      "cell_type": "code",
      "execution_count": null,
      "metadata": {
        "colab": {
          "base_uri": "https://localhost:8080/"
        },
        "id": "chefC4yjo8Aj",
        "outputId": "49d3dc1b-ece8-408b-a44c-70e509e99da3"
      },
      "outputs": [
        {
          "output_type": "stream",
          "name": "stdout",
          "text": [
            "Database initialized!\n"
          ]
        }
      ],
      "source": [
        "import sqlite3\n",
        "import bcrypt\n",
        "\n",
        "def connect_db():\n",
        "    return sqlite3.connect(\"event_planner.db\")\n",
        "\n",
        "def create_tables():\n",
        "    conn = connect_db()\n",
        "    cursor = conn.cursor()\n",
        "\n",
        "    # Users table for authentication\n",
        "    cursor.execute('''\n",
        "        CREATE TABLE IF NOT EXISTS users (\n",
        "            user_id INTEGER PRIMARY KEY AUTOINCREMENT,\n",
        "            username TEXT UNIQUE NOT NULL,\n",
        "            password TEXT NOT NULL\n",
        "        )\n",
        "    ''')\n",
        "\n",
        "    # Events table\n",
        "    cursor.execute('''\n",
        "        CREATE TABLE IF NOT EXISTS events (\n",
        "            event_id INTEGER PRIMARY KEY AUTOINCREMENT,\n",
        "            user_id INTEGER,\n",
        "            event_name TEXT NOT NULL,\n",
        "            event_date TEXT NOT NULL,\n",
        "            event_description TEXT,\n",
        "            FOREIGN KEY (user_id) REFERENCES users(user_id)\n",
        "        )\n",
        "    ''')\n",
        "\n",
        "    conn.commit()\n",
        "    conn.close()\n",
        "\n",
        "def hash_password(password):\n",
        "    return bcrypt.hashpw(password.encode('utf-8'), bcrypt.gensalt()).decode('utf-8')\n",
        "\n",
        "def check_password(stored_password, provided_password):\n",
        "    return bcrypt.checkpw(provided_password.encode('utf-8'), stored_password.encode('utf-8'))\n",
        "\n",
        "def register_user(username, password):\n",
        "    conn = connect_db()\n",
        "    cursor = conn.cursor()\n",
        "    hashed_password = hash_password(password)\n",
        "\n",
        "    try:\n",
        "        cursor.execute(\"INSERT INTO users (username, password) VALUES (?, ?)\", (username, hashed_password))\n",
        "        conn.commit()\n",
        "        print(\"User registered successfully!\")\n",
        "    except sqlite3.IntegrityError:\n",
        "        print(\"Error: Username already exists.\")\n",
        "\n",
        "    conn.close()\n",
        "\n",
        "def login_user(username, password):\n",
        "    conn = connect_db()\n",
        "    cursor = conn.cursor()\n",
        "\n",
        "    cursor.execute(\"SELECT user_id, password FROM users WHERE username = ?\", (username,))\n",
        "    user = cursor.fetchone()\n",
        "\n",
        "    conn.close()\n",
        "\n",
        "    if user and check_password(user[1], password):\n",
        "        print(\"Login successful!\")\n",
        "        return user[0]  # Return user_id\n",
        "    else:\n",
        "        print(\"Invalid credentials.\")\n",
        "        return None\n",
        "\n",
        "def create_event(user_id, event_name, event_date, event_description):\n",
        "    conn = connect_db()\n",
        "    cursor = conn.cursor()\n",
        "\n",
        "    cursor.execute(\"INSERT INTO events (user_id, event_name, event_date, event_description) VALUES (?, ?, ?, ?)\",\n",
        "                   (user_id, event_name, event_date, event_description))\n",
        "    conn.commit()\n",
        "    conn.close()\n",
        "    print(\"Event created successfully!\")\n",
        "\n",
        "def edit_event(event_id, event_name=None, event_date=None, event_description=None):\n",
        "    if not any([event_name, event_date, event_description]):\n",
        "        print(\"No updates provided.\")\n",
        "        return\n",
        "\n",
        "    conn = connect_db()\n",
        "    cursor = conn.cursor()\n",
        "\n",
        "    update_fields = []\n",
        "    params = []\n",
        "\n",
        "    if event_name:\n",
        "        update_fields.append(\"event_name = ?\")\n",
        "        params.append(event_name)\n",
        "    if event_date:\n",
        "        update_fields.append(\"event_date = ?\")\n",
        "        params.append(event_date)\n",
        "    if event_description:\n",
        "        update_fields.append(\"event_description = ?\")\n",
        "        params.append(event_description)\n",
        "\n",
        "    params.append(event_id)\n",
        "\n",
        "    query = f\"UPDATE events SET {', '.join(update_fields)} WHERE event_id = ?\"\n",
        "    cursor.execute(query, params)\n",
        "    conn.commit()\n",
        "    conn.close()\n",
        "    print(\"Event updated successfully!\")\n",
        "\n",
        "# Initialize the database\n",
        "def initialize_app():\n",
        "    create_tables()\n",
        "    print(\"Database initialized!\")\n",
        "\n",
        "# Run this once to set up tables\n",
        "initialize_app()"
      ]
    },
    {
      "cell_type": "code",
      "source": [
        "register_user(\"test_user\", \"password123\")"
      ],
      "metadata": {
        "colab": {
          "base_uri": "https://localhost:8080/"
        },
        "id": "-wOgOk_9ph1f",
        "outputId": "3d7c60bd-e6a3-4573-e478-dcaf0aa934c3"
      },
      "execution_count": null,
      "outputs": [
        {
          "output_type": "stream",
          "name": "stdout",
          "text": [
            "User registered successfully!\n"
          ]
        }
      ]
    },
    {
      "cell_type": "code",
      "source": [
        "!pip install bcrypt\n",
        "\n"
      ],
      "metadata": {
        "colab": {
          "base_uri": "https://localhost:8080/"
        },
        "id": "XVWcJ6KQpW52",
        "outputId": "92ec371c-a0c0-41c7-d557-709b6f1300c9"
      },
      "execution_count": null,
      "outputs": [
        {
          "output_type": "stream",
          "name": "stdout",
          "text": [
            "Collecting bcrypt\n",
            "  Downloading bcrypt-4.3.0-cp39-abi3-manylinux_2_34_x86_64.whl.metadata (10 kB)\n",
            "Downloading bcrypt-4.3.0-cp39-abi3-manylinux_2_34_x86_64.whl (284 kB)\n",
            "\u001b[?25l   \u001b[90m━━━━━━━━━━━━━━━━━━━━━━━━━━━━━━━━━━━━━━━━\u001b[0m \u001b[32m0.0/284.2 kB\u001b[0m \u001b[31m?\u001b[0m eta \u001b[36m-:--:--\u001b[0m\r\u001b[2K   \u001b[91m━━━━━━━━━━━━\u001b[0m\u001b[91m╸\u001b[0m\u001b[90m━━━━━━━━━━━━━━━━━━━━━━━━━━━\u001b[0m \u001b[32m92.2/284.2 kB\u001b[0m \u001b[31m2.6 MB/s\u001b[0m eta \u001b[36m0:00:01\u001b[0m\r\u001b[2K   \u001b[91m━━━━━━━━━━━━━━━━━━━━━━━━━━━━━━━━━━━━━━\u001b[0m\u001b[91m╸\u001b[0m\u001b[90m━\u001b[0m \u001b[32m276.5/284.2 kB\u001b[0m \u001b[31m5.3 MB/s\u001b[0m eta \u001b[36m0:00:01\u001b[0m\r\u001b[2K   \u001b[90m━━━━━━━━━━━━━━━━━━━━━━━━━━━━━━━━━━━━━━━━\u001b[0m \u001b[32m284.2/284.2 kB\u001b[0m \u001b[31m3.8 MB/s\u001b[0m eta \u001b[36m0:00:00\u001b[0m\n",
            "\u001b[?25hInstalling collected packages: bcrypt\n",
            "Successfully installed bcrypt-4.3.0\n"
          ]
        }
      ]
    },
    {
      "cell_type": "code",
      "source": [
        "user_id = login_user(\"test_user\", \"password123\")\n",
        "print(f\"Logged in user ID: {user_id}\")"
      ],
      "metadata": {
        "colab": {
          "base_uri": "https://localhost:8080/"
        },
        "id": "2IRTq4RNpkz_",
        "outputId": "7d812484-8685-4dbd-90db-ab6bd0ac8e58"
      },
      "execution_count": null,
      "outputs": [
        {
          "output_type": "stream",
          "name": "stdout",
          "text": [
            "Login successful!\n",
            "Logged in user ID: 1\n"
          ]
        }
      ]
    },
    {
      "cell_type": "code",
      "source": [
        "if user_id:\n",
        "    create_event(user_id, \"Team Meeting\", \"2025-03-10\", \"Discuss project updates\")"
      ],
      "metadata": {
        "colab": {
          "base_uri": "https://localhost:8080/"
        },
        "id": "R8GpLF_Wpl27",
        "outputId": "270ed801-9478-4774-a0d5-d5a8990629e6"
      },
      "execution_count": null,
      "outputs": [
        {
          "output_type": "stream",
          "name": "stdout",
          "text": [
            "Event created successfully!\n"
          ]
        }
      ]
    },
    {
      "cell_type": "code",
      "source": [
        "conn = connect_db()\n",
        "cursor = conn.cursor()\n",
        "cursor.execute(\"SELECT * FROM events\")\n",
        "print(cursor.fetchall())  # Should show event details\n",
        "conn.close()"
      ],
      "metadata": {
        "colab": {
          "base_uri": "https://localhost:8080/"
        },
        "id": "2Y7jVLK-poLi",
        "outputId": "d4bfa3e0-a083-42a8-8bce-d9840b0d3e87"
      },
      "execution_count": null,
      "outputs": [
        {
          "output_type": "stream",
          "name": "stdout",
          "text": [
            "[(1, 1, 'Team Meeting', '2025-03-10', 'Discuss project updates')]\n"
          ]
        }
      ]
    },
    {
      "cell_type": "code",
      "source": [],
      "metadata": {
        "id": "HzHKAWscpsQm",
        "collapsed": true
      },
      "execution_count": null,
      "outputs": []
    },
    {
      "cell_type": "code",
      "source": [],
      "metadata": {
        "id": "1kvaOQ43svS1"
      },
      "execution_count": null,
      "outputs": []
    }
  ]
}